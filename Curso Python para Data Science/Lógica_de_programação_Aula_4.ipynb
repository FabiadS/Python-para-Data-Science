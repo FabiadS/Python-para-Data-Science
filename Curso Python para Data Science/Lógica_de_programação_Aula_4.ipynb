{
 "cells": [
  {
   "cell_type": "markdown",
   "metadata": {},
   "source": [
    "# Tipos em uma lista"
   ]
  },
  {
   "cell_type": "code",
   "execution_count": null,
   "metadata": {},
   "outputs": [],
   "source": [
    "lista = ['Fabiola', 21, True, 18]\n",
    "\n",
    "for elemento in lista:\n",
    "  print(f'O elemento {elemento} é do tipo: ', type(elemento))"
   ]
  }
 ],
 "metadata": {
  "kernelspec": {
   "display_name": "Python 3.10.1 64-bit",
   "language": "python",
   "name": "python3"
  },
  "language_info": {
   "name": "python",
   "version": "3.10.1"
  },
  "orig_nbformat": 4,
  "vscode": {
   "interpreter": {
    "hash": "094fd7e75f098a656cf78ca6c05114cebf6a639b8747e31b179d242e41549dd1"
   }
  }
 },
 "nbformat": 4,
 "nbformat_minor": 2
}
